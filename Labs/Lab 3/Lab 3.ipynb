{
 "cells": [
  {
   "cell_type": "markdown",
   "metadata": {},
   "source": [
    "# Lab Three\n",
    "---\n",
    "\n",
    "Ok for this lab we're going to reiterate a lot of the things that we went over in class.\n",
    "\n",
    "Our Goals are:\n",
    "- Understanding Variable Types\n",
    "- Defining Variables\n",
    "- Using Conditionals\n",
    "- Using Loops\n",
    "- Creating Objects\n",
    "- Writing a function\n"
   ]
  },
  {
   "cell_type": "markdown",
   "metadata": {},
   "source": [
    "## What's the difference between Null and undefined?"
   ]
  },
  {
   "cell_type": "markdown",
   "metadata": {},
   "source": [
    "* Null is when we have an object and we purposely do not give it a value. It could be that part of it wasn't declared, however we still need it or that it didnt make it all the way through its created and we ended up with a half made object. The type is object and it equals zero.\n",
    "* Undefined is when there is nothing there at all, it is declared however not yet defined. The type is undefined and it is equal to NaN (Not A Number)"
   ]
  },
  {
   "cell_type": "markdown",
   "metadata": {},
   "source": [
    "## List the 3 Variable Types and Use Them!"
   ]
  },
  {
   "cell_type": "markdown",
   "metadata": {},
   "source": [
    "Var - used to store values, it can be redefined."
   ]
  },
  {
   "cell_type": "code",
   "execution_count": 1,
   "metadata": {},
   "outputs": [
    {
     "name": "stdout",
     "output_type": "stream",
     "text": [
      "Iced coffee\n"
     ]
    }
   ],
   "source": [
    "var myDrink = \"Iced coffee\";\n",
    "console.log(myDrink);"
   ]
  },
  {
   "cell_type": "markdown",
   "metadata": {},
   "source": [
    "Let - is scope bound which means it will not let you redeclare something that has already been declared in the same scope. "
   ]
  },
  {
   "cell_type": "code",
   "execution_count": 2,
   "metadata": {},
   "outputs": [
    {
     "name": "stdout",
     "output_type": "stream",
     "text": [
      "Monday\n"
     ]
    }
   ],
   "source": [
    "let weekday = \"Monday\";\n",
    "console.log(weekday);"
   ]
  },
  {
   "cell_type": "markdown",
   "metadata": {},
   "source": [
    "Const - allows you to declare a constant and does not allow you to change it."
   ]
  },
  {
   "cell_type": "code",
   "execution_count": 3,
   "metadata": {},
   "outputs": [
    {
     "name": "stdout",
     "output_type": "stream",
     "text": [
      "Max\n"
     ]
    }
   ],
   "source": [
    "const myDog = \"Max\";\n",
    "console.log(myDog);"
   ]
  },
  {
   "cell_type": "markdown",
   "metadata": {},
   "source": [
    "## Use an If/Else If/Else Statement and a Switch Case statement"
   ]
  },
  {
   "cell_type": "code",
   "execution_count": 4,
   "metadata": {},
   "outputs": [
    {
     "name": "stdout",
     "output_type": "stream",
     "text": [
      "Iced coffee\n"
     ]
    }
   ],
   "source": [
    "if (1 == 1) {\n",
    "    var myDrink = \"Iced coffee\"\n",
    "    console.log(myDrink);\n",
    "}"
   ]
  },
  {
   "cell_type": "code",
   "execution_count": 5,
   "metadata": {},
   "outputs": [
    {
     "name": "stdout",
     "output_type": "stream",
     "text": [
      "I love eating fruit!\n"
     ]
    }
   ],
   "source": [
    "var fruit = true;\n",
    "var vegetables = false;\n",
    "if (fruit) {\n",
    "    console.log(\"I love eating fruit!\");\n",
    "} else if (vegetables) {\n",
    "    console.log(\"Ew! I hate eating vegetables!\");\n",
    "} "
   ]
  },
  {
   "cell_type": "code",
   "execution_count": 6,
   "metadata": {},
   "outputs": [
    {
     "name": "stdout",
     "output_type": "stream",
     "text": [
      "Im bad at sports, I like to dance.\n"
     ]
    }
   ],
   "source": [
    "var basketball = false;\n",
    "var soccer = false;\n",
    "\n",
    "if (basketball) {\n",
    "    console.log(\"I love playing basketball with my friends.\");\n",
    "} else if (soccer) {\n",
    "    console.log(\"I love playing soccer on the weekends\");\n",
    "} else {\n",
    "    console.log(\"Im bad at sports, I like to dance.\")\n",
    "}"
   ]
  },
  {
   "cell_type": "code",
   "execution_count": 8,
   "metadata": {},
   "outputs": [
    {
     "name": "stdout",
     "output_type": "stream",
     "text": [
      "Iced tea is my favorite drink to drink on a hot summer day.\n"
     ]
    }
   ],
   "source": [
    "var drinks = \"Iced Tea\";\n",
    "switch (drinks) {\n",
    "    case \"Coffee\":\n",
    "        console.log(\"I only drink coffee from starbucks\");\n",
    "        break;\n",
    "    case \"Gatorade\":\n",
    "        console.log(\"I drink gatorade when I am playing sports\");\n",
    "        break;\n",
    "    case \"Iced Tea\":\n",
    "        console.log(\"Iced tea is my favorite drink to drink on a hot summer day.\");\n",
    "        break;\n",
    "\n",
    "    default:\n",
    "        console.log(\"I like soda.\");\n",
    "        break;\n",
    "}"
   ]
  },
  {
   "cell_type": "markdown",
   "metadata": {},
   "source": [
    "## Use a For and a While Loop"
   ]
  },
  {
   "cell_type": "code",
   "execution_count": 9,
   "metadata": {},
   "outputs": [
    {
     "name": "stdout",
     "output_type": "stream",
     "text": [
      "2\n",
      "4\n",
      "6\n",
      "8\n",
      "10\n",
      "12\n"
     ]
    }
   ],
   "source": [
    "for (var a = 2; a <= 12; a +=2) {\n",
    "    console.log(a)\n",
    "}"
   ]
  },
  {
   "cell_type": "code",
   "execution_count": 15,
   "metadata": {},
   "outputs": [
    {
     "name": "stdout",
     "output_type": "stream",
     "text": [
      "5\n"
     ]
    }
   ],
   "source": [
    "var b=0;\n",
    "while(b < 5){\n",
    "    b++;\n",
    "}\n",
    "console.log(b);"
   ]
  },
  {
   "cell_type": "markdown",
   "metadata": {},
   "source": [
    "## Make an object!"
   ]
  },
  {
   "cell_type": "code",
   "execution_count": null,
   "metadata": {},
   "outputs": [],
   "source": [
    "let myInfo = {firstName: \"Angie\", lastName: \"Chirichella\", age: \"20 Years old.\"};"
   ]
  },
  {
   "cell_type": "code",
   "execution_count": 36,
   "metadata": {},
   "outputs": [
    {
     "name": "stdout",
     "output_type": "stream",
     "text": [
      "{ firstName: 'Angie', lastName: 'Chirichella', age: '20 Years old.' }\n"
     ]
    }
   ],
   "source": [
    "console.log(myInfo);"
   ]
  },
  {
   "cell_type": "markdown",
   "metadata": {},
   "source": [
    "## Make a function, It can do anything!"
   ]
  },
  {
   "cell_type": "code",
   "execution_count": 33,
   "metadata": {},
   "outputs": [
    {
     "name": "stdout",
     "output_type": "stream",
     "text": [
      "My name is Angie Chirichella!\n",
      "My name is Gaby Nina!\n"
     ]
    }
   ],
   "source": [
    "function name(first, last){\n",
    "    console.log(\"My name is \" + first + \" \" + last + \"!\");\n",
    "}\n",
    "name(\"Angie\", \"Chirichella\");\n",
    "name(\"Gaby\", \"Nina\");"
   ]
  },
  {
   "cell_type": "markdown",
   "metadata": {},
   "source": [
    "## Optional: Checkout HackerRank and try a problem in Javascript"
   ]
  }
 ],
 "metadata": {
  "kernelspec": {
   "display_name": "Javascript (Node.js)",
   "language": "javascript",
   "name": "javascript"
  },
  "language_info": {
   "file_extension": ".js",
   "mimetype": "application/javascript",
   "name": "javascript",
   "version": "14.17.6"
  }
 },
 "nbformat": 4,
 "nbformat_minor": 4
}
